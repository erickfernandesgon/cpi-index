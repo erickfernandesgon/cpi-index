{
 "cells": [
  {
   "cell_type": "code",
   "execution_count": 22,
   "id": "11cef8a0-1674-4141-bd48-1514f298f567",
   "metadata": {},
   "outputs": [
    {
     "name": "stdout",
     "output_type": "stream",
     "text": [
      "Obtendo dados para: Valor CPI Geral (Todos os Itens) (CUSR0000SA0)...\n",
      "Obtendo dados para: Valor CPI Núcleo (Excluindo Alimentos e Energia) (CUSR0000SA0L1E)...\n",
      "Obtendo dados para: Valor CPI - Alimentos (CUSR0000SAF1)...\n",
      "Obtendo dados para: Valor CPI - Energia (CUSR0000SA0E)...\n",
      "Obtendo dados para: Valor CPI - Vestuário (CUSR0000SAA)...\n",
      "Obtendo dados para: Valor CPI - Educação e Comunicação (CUSR0000SAE)...\n",
      "Obtendo dados para: Valor CPI - Outros Bens e Serviços (CUSR0000SAG)...\n",
      "Obtendo dados para: Valor CPI - Cuidados Médicos (CUSR0000SAM)...\n",
      "Obtendo dados para: Valor CPI - Recreação (CUSR0000SAR)...\n",
      "Obtendo dados para: Valor CPI - Transporte (CUSR0000SAT)...\n",
      "Gráficos salvos em graficos_cpi.pdf com sucesso!\n",
      "Gráficos salvos em 'graficos_cpi.pdf' com sucesso!\n"
     ]
    }
   ],
   "source": [
    "# Importar módulos necessários\n",
    "from cpi_utils import obter_dados_cpi, plotar_graficos_cpi_pdf\n",
    "import pandas as pd\n",
    "\n",
    "# Lista de variações do CPI com seus respectivos títulos\n",
    "cpi_variations = [\n",
    "    {\"series_id\": \"CUSR0000SA0\", \"Titulo\": \"Valor CPI Geral (Todos os Itens)\"},\n",
    "    {\"series_id\": \"CUSR0000SA0L1E\", \"Titulo\": \"Valor CPI Núcleo (Excluindo Alimentos e Energia)\"},\n",
    "    {\"series_id\": \"CUSR0000SAF1\", \"Titulo\": \"Valor CPI - Alimentos\"},\n",
    "    {\"series_id\": \"CUSR0000SA0E\", \"Titulo\": \"Valor CPI - Energia\"},\n",
    "    {\"series_id\": \"CUSR0000SAA\", \"Titulo\": \"Valor CPI - Vestuário\"},\n",
    "    {\"series_id\": \"CUSR0000SAE\", \"Titulo\": \"Valor CPI - Educação e Comunicação\"},\n",
    "    {\"series_id\": \"CUSR0000SAG\", \"Titulo\": \"Valor CPI - Outros Bens e Serviços\"},\n",
    "    {\"series_id\": \"CUSR0000SAM\", \"Titulo\": \"Valor CPI - Cuidados Médicos\"},\n",
    "    {\"series_id\": \"CUSR0000SAR\", \"Titulo\": \"Valor CPI - Recreação\"},\n",
    "    {\"series_id\": \"CUSR0000SAT\", \"Titulo\": \"Valor CPI - Transporte\"}\n",
    "]\n",
    "\n",
    "# Passo 1: Coletar os dados do CPI\n",
    "df_cpi = obter_dados_cpi(cpi_variations)\n",
    "\n",
    "# Passo 2: Verificar se os dados foram coletados e plotar os gráficos\n",
    "if not df_cpi.empty:\n",
    "    df_cpi['Date'] = pd.to_datetime(df_cpi['Date'])\n",
    "    df_cpi = df_cpi.sort_values(\"Date\")\n",
    "    plotar_graficos_cpi_pdf(df_cpi, \"graficos_cpi.pdf\")\n",
    "    print(\"Gráficos salvos em 'graficos_cpi.pdf' com sucesso!\")\n",
    "else:\n",
    "    print(\"Nenhum dado disponível para plotagem.\")\n"
   ]
  }
 ],
 "metadata": {
  "jupytext": {
   "cell_metadata_filter": "-all",
   "main_language": "python",
   "notebook_metadata_filter": "-all"
  },
  "kernelspec": {
   "display_name": "Python 3 (ipykernel)",
   "language": "python",
   "name": "python3"
  },
  "language_info": {
   "codemirror_mode": {
    "name": "ipython",
    "version": 3
   },
   "file_extension": ".py",
   "mimetype": "text/x-python",
   "name": "python",
   "nbconvert_exporter": "python",
   "pygments_lexer": "ipython3",
   "version": "3.13.0"
  }
 },
 "nbformat": 4,
 "nbformat_minor": 5
}
