{
 "cells": [
  {
   "cell_type": "code",
   "execution_count": null,
   "id": "f3f80fd1",
   "metadata": {},
   "outputs": [],
   "source": [
    "import pandas as pd\n",
    "from CPIINDEX import obter_dados_cpi  # Importa a função de obtenção de dados do arquivo CPIINDEX.py\n",
    "from GRAPHIC import plotar_graficos_cpi  # Importa a função de plotagem do arquivo GRAPHIC.py"
   ]
  },
  {
   "cell_type": "code",
   "execution_count": null,
   "id": "f3d76826",
   "metadata": {},
   "outputs": [],
   "source": [
    "# Execução principal do código\n",
    "if __name__ == \"__main__\":\n",
    "    # Lista de variações do CPI com seus respectivos títulos\n",
    "    cpi_variations = [\n",
    "        {\"series_id\": \"CUSR0000SA0L1E\", \"titulo\": \"CPI Núcleo (Excluindo Alimentos e Energia)\"},\n",
    "        {\"series_id\": \"CUSR0000SA0\", \"titulo\": \"CPI Geral (Todos os Itens)\"},\n",
    "        {\"series_id\": \"CWUR0000SA0\", \"titulo\": \"CPI-W (Trabalhadores Assalariados Urbanos)\"},\n",
    "        {\"series_id\": \"SUUR0000SA0\", \"titulo\": \"CPI Encadeado (C-CPI-U)\"}\n",
    "    ]\n",
    "\n",
    "    # Obtém todos os dados\n",
    "    df_cpi = obter_dados_cpi(cpi_variations)\n",
    "\n",
    "    print(df_cpi.columns)\n",
    "\n",
    "    # Verifica se há dados e plota os gráficos\n",
    "    if not df_cpi.empty:\n",
    "    # Converte a coluna 'Date' para datetime\n",
    "        df_cpi['Date'] = pd.to_datetime(df_cpi['Date'])\n",
    "        plotar_graficos_cpi(df_cpi)\n",
    "    else:\n",
    "        print(\"Nenhum dado disponível para plotagem.\")"
   ]
  }
 ],
 "metadata": {
  "jupytext": {
   "cell_metadata_filter": "-all",
   "main_language": "python",
   "notebook_metadata_filter": "-all"
  }
 },
 "nbformat": 4,
 "nbformat_minor": 5
}
